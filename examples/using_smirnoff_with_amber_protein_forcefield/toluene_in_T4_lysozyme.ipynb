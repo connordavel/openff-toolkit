{
 "cells": [
  {
   "cell_type": "markdown",
   "metadata": {},
   "source": [
    "## Create a system mixing SMIRNOFF and non-SMIRNOFF-formatted force fields"
   ]
  },
  {
   "cell_type": "markdown",
   "metadata": {},
   "source": [
    "### Parametrize a molecule with the Sage force field\n",
    "\n",
    "First, we parametrize the ligand (toluene) with the SMIRNOFF-format Sage force field through the usual route to create an OpenMM `System`."
   ]
  },
  {
   "cell_type": "code",
   "execution_count": null,
   "metadata": {},
   "outputs": [],
   "source": [
    "try:\n",
    "    from openmm import app\n",
    "    from openmm import unit as openmm_unit\n",
    "except ImportError:\n",
    "    from simtk import unit as openmm_unit\n",
    "    from simtk.openmm import app\n",
    "\n",
    "import numpy as np\n",
    "from openff.interchange.components.interchange import Interchange\n",
    "from openff.units import unit\n",
    "\n",
    "from openff.toolkit.topology import Molecule\n",
    "from openff.toolkit.typing.engines.smirnoff import ForceField\n",
    "from openff.toolkit.utils import get_data_file_path\n",
    "\n",
    "\n",
    "def converter(x):\n",
    "    return x.value_in_unit(openmm_unit.nanometer)"
   ]
  },
  {
   "cell_type": "code",
   "execution_count": null,
   "metadata": {
    "tags": []
   },
   "outputs": [],
   "source": [
    "toluene_positions = app.PDBFile(get_data_file_path(\"molecules/toluene.pdb\")).positions\n",
    "toluene_topology = Molecule.from_smiles(\"Cc1ccccc1\").to_topology()\n",
    "\n",
    "sage = ForceField(\"openff-2.0.0.offxml\")\n",
    "\n",
    "toluene = Interchange.from_smirnoff(force_field=sage, topology=toluene_topology)\n",
    "toluene.positions = np.frompyfunc(converter, 1, 1)(toluene_positions).astype(float)"
   ]
  },
  {
   "cell_type": "code",
   "execution_count": null,
   "metadata": {},
   "outputs": [],
   "source": [
    "ff14sb = ForceField(\"ff14sb_off_impropers_0.0.1.offxml\")\n",
    "ff14sb.deregister_parameter_handler(\"ImproperTorsions\")\n",
    "\n",
    "# TODO: This PDB file also has water an ions, which are not yet intelligently parsed here.\n",
    "#       Unclear if we should have a Topology.from_pdb, just drop the waters, hack through OpenMM ...\n",
    "t4_lysozyme_molecule = Molecule.from_pdb(\n",
    "    get_data_file_path(\"systems/test_systems/T4_lysozyme_water_ions.pdb\")\n",
    ")\n",
    "\n",
    "t4_lysozyme = Interchange.from_smirnoff(\n",
    "    force_field=ff14sb, topology=t4_lysozyme_molecule.to_topoplogy()\n",
    ")\n",
    "t4_lysozyme.positions = t4_lysozyme_molecule.conformers[0]"
   ]
  },
  {
   "cell_type": "code",
   "execution_count": null,
   "metadata": {},
   "outputs": [],
   "source": [
    "complex_system = t4_lysozyme + toluene"
   ]
  },
  {
   "cell_type": "code",
   "execution_count": null,
   "metadata": {},
   "outputs": [],
   "source": [
    "complex_system.to_openmm()"
   ]
  }
 ],
 "metadata": {
  "kernelspec": {
   "display_name": "Python 3 (ipykernel)",
   "language": "python",
   "name": "python3"
  },
  "language_info": {
   "codemirror_mode": {
    "name": "ipython",
    "version": 3
   },
   "file_extension": ".py",
   "mimetype": "text/x-python",
   "name": "python",
   "nbconvert_exporter": "python",
   "pygments_lexer": "ipython3",
   "version": "3.9.7"
  }
 },
 "nbformat": 4,
 "nbformat_minor": 4
}
